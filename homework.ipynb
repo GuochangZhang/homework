{
 "cells": [
  {
   "cell_type": "markdown",
   "metadata": {},
   "source": [
    "Before you turn this problem in, make sure everything runs as expected. First, **restart the kernel** (in the menubar, select Kernel$\\rightarrow$Restart) and then **run all cells** (in the menubar, select Cell$\\rightarrow$Run All).\n",
    "\n",
    "Make sure you fill in any place that says `YOUR CODE HERE` or \"YOUR ANSWER HERE\", as well as your name and collaborators below:"
   ]
  },
  {
   "cell_type": "code",
   "execution_count": null,
   "metadata": {},
   "outputs": [],
   "source": [
    "NAME = \"\"\n",
    "COLLABORATORS = \"\""
   ]
  },
  {
   "cell_type": "markdown",
   "metadata": {},
   "source": [
    "---"
   ]
  },
  {
   "cell_type": "markdown",
   "metadata": {},
   "source": [
    "# Homework 3: Matrix Transforms\n",
    "\n",
    "In this homework, we will look at different ways to represent and transform matrices.\n",
    "\n",
    "### Householder similarity transforms\n",
    "\n",
    "Suppose we are given a square symmetric matrix $A$.  What sort of algorithm could we use to construct a symmetric tridiagonal matrix $\\hat A$ such that\n",
    "$$ A = Q \\hat A Q^T $$\n",
    "where $Q$ is an orthogonal matrix.\n",
    "We'll construct such a matrix $Q$ out of elementary reflectors, much like we did in Householder QR."
   ]
  },
  {
   "cell_type": "code",
   "execution_count": null,
   "metadata": {},
   "outputs": [],
   "source": [
    "%matplotlib inline\n",
    "import numpy as np\n",
    "import matplotlib.pyplot as plt\n",
    "from scipy.linalg import block_diag\n",
    "plt.style.use('seaborn')\n",
    "np.set_printoptions(precision=4)\n",
    "\n",
    "A = np.random.rand(4, 4)\n",
    "A = A + A.T # Random symmetric matrix\n",
    "A"
   ]
  },
  {
   "cell_type": "markdown",
   "metadata": {},
   "source": [
    "We'll create a Householder-style reflector matrix for column 0, to introduce zeros below the *tridiagonal*."
   ]
  },
  {
   "cell_type": "code",
   "execution_count": null,
   "metadata": {},
   "outputs": [],
   "source": [
    "def reflector(v):\n",
    "    return np.eye(len(v)) - 2*np.outer(v, v)\n",
    "\n",
    "v = A[1:,0].copy()\n",
    "v[0] -= np.linalg.norm(v)\n",
    "v = v / np.linalg.norm(v)\n",
    "F = reflector(v)\n",
    "Q_0 = block_diag(np.eye(1), F)\n",
    "Q_0"
   ]
  },
  {
   "cell_type": "code",
   "execution_count": null,
   "metadata": {},
   "outputs": [],
   "source": [
    "# Introduce zeros below the tridiagonal in column 0.\n",
    "Q_0 @ A"
   ]
  },
  {
   "cell_type": "code",
   "execution_count": null,
   "metadata": {},
   "outputs": [],
   "source": [
    "# Same in the first row\n",
    "A_1 = Q_0 @ A @ Q_0\n",
    "A_1"
   ]
  },
  {
   "cell_type": "markdown",
   "metadata": {},
   "source": [
    "## Efficiency\n",
    "\n",
    "In the above, we have computed\n",
    "$$ A_1 := Q_0 A Q_0 $$\n",
    "(note that $Q_0 = Q_0^T$) using a very inefficient algorithm.\n",
    "Instead of creating the dense $n\\times n$ reflector $F$ above and then multiplying it at $O(n^3)$ cost, write a function that applies the reflector to a matrix at $O(n^2)$ cost.  Recall that\n",
    "$$ (I - 2 v v^T) B = B - 2 v (v^T B) $$\n",
    "and also that\n",
    "$$ B (I - 2 v v^T) = B - 2 (B v) v^T . $$\n",
    "Also note that you can take the submatrix all but row 0 using `B[1:]` and all but column 0 using `B[:,1:]`."
   ]
  },
  {
   "cell_type": "code",
   "execution_count": null,
   "metadata": {
    "deletable": false,
    "nbgrader": {
     "cell_type": "code",
     "checksum": "3e15abb26d845139c0b756c4be43aaaa",
     "grade": false,
     "grade_id": "cell-b4a691ab5867f9de",
     "locked": false,
     "schema_version": 3,
     "solution": true,
     "task": false
    }
   },
   "outputs": [],
   "source": [
    "def symreflect(A, v):\n",
    "    \"\"\"Efficiently compute Q_0 A Q_0 where Q_0 is defined in terms of v.\n",
    "    \"\"\"\n",
    "    B = A.copy() # Make a copy so we don't modify A\n",
    "    # Modify B by applying reflections.\n",
    "    # This line applies the reflection on the left, storing the result in-place.\n",
    "    B[1:] -= 2 * np.outer(v, v @ B[1:])\n",
    "    # Now you write code to apply a similar reflection on the right.\n",
    "    # YOUR CODE HERE\n",
    "    raise NotImplementedError()\n",
    "    return B\n",
    "\n",
    "symreflect(A, v)"
   ]
  },
  {
   "cell_type": "code",
   "execution_count": null,
   "metadata": {
    "deletable": false,
    "editable": false,
    "nbgrader": {
     "cell_type": "code",
     "checksum": "b26ca27103dccd95c836fbffd9bb5a9b",
     "grade": true,
     "grade_id": "cell-6b2a9f0f76ccc890",
     "locked": true,
     "points": 1,
     "schema_version": 3,
     "solution": false,
     "task": false
    }
   },
   "outputs": [],
   "source": [
    "def symreflect_naive(A, v):\n",
    "    F = reflector(v)\n",
    "    Q_0 = block_diag(np.eye(1), F)\n",
    "    return Q_0 @ A @ Q_0\n",
    "\n",
    "assert np.allclose(symreflect(A, v), symreflect_naive(A, v))\n",
    "print('Tests pass')"
   ]
  },
  {
   "cell_type": "markdown",
   "metadata": {},
   "source": [
    "## Tridiagonalization\n",
    "\n",
    "Suppose we implement a sequence of transformations $Q_0, Q_1, \\dotsc$ to introduce zeros in successive columns and rows.  Then we'll have\n",
    "\\begin{align}\n",
    "\\hat A &= \\dotsb Q_2 \\Big( Q_1 ( Q_0 A Q_0 ) Q_1 \\Big) Q_2 \\dotsb \\\\\n",
    "&= \\underbrace{\\dotsb Q_2 Q_1 Q_0}_{Q^T} A \\underbrace{Q_0 Q_1 Q_2 \\dotsb}_{Q}\n",
    "\\end{align}\n",
    "which is an orthogonal reduction to symmetric tridiagonal form.\n",
    "\n",
    "First, we note that the natural way to store $Q$ is as a list of reflector vectors $v$.\n",
    "To check our results, we'd like to be able to make $Q$ as an explicit matrix.  This function is a near copy of one in the Linear Algebra notebook."
   ]
  },
  {
   "cell_type": "code",
   "execution_count": null,
   "metadata": {},
   "outputs": [],
   "source": [
    "def Q_times_x(V, x):\n",
    "    \"\"\"Apply orthogonal matrix Q represented as list of Householder reflectors\"\"\"\n",
    "    y = x.copy()\n",
    "    for v in reversed(V):\n",
    "        i = -len(v)\n",
    "        y[i:] -= 2 * v * (v @ y[i:])\n",
    "    return y\n",
    "\n",
    "def Q_as_explicit(V):\n",
    "    m = len(V[0]) + 1\n",
    "    Q = np.eye(m)\n",
    "    for i, col in enumerate(Q.T):\n",
    "        Q[:,i] = Q_times_x(V, col)\n",
    "    return Q"
   ]
  },
  {
   "cell_type": "code",
   "execution_count": null,
   "metadata": {
    "deletable": false,
    "nbgrader": {
     "cell_type": "code",
     "checksum": "9f8313d24bfe38409298e41957f19a50",
     "grade": false,
     "grade_id": "cell-40dee18676d0b32f",
     "locked": false,
     "schema_version": 3,
     "solution": true,
     "task": false
    }
   },
   "outputs": [],
   "source": [
    "def symtridiagonalize(A):\n",
    "    \"\"\"Reduce the symmetric matrix A to tridiagonal form using\n",
    "    orthogonal transformation Q^T A Q.\n",
    "    \"\"\"\n",
    "    B = A.copy()\n",
    "    n = len(B)\n",
    "    V = []\n",
    "    for i in range(n - 2):\n",
    "        v = B[i+1:,i].copy()\n",
    "        # Turn v into a normalized vector representing\n",
    "        # the reflection I - 2 v v^T\n",
    "        # YOUR CODE HERE\n",
    "        raise NotImplementedError()\n",
    "        B[i:, i:] = symreflect(B[i:, i:], v)\n",
    "        V.append(v)\n",
    "    return B, Q_as_explicit(V)\n",
    "\n",
    "Ahat, Q = symtridiagonalize(A)\n",
    "print(Ahat) # Symmetric and tridiagonal\n",
    "print('Error:', np.linalg.norm(Q.T @ A @ Q - Ahat))"
   ]
  },
  {
   "cell_type": "code",
   "execution_count": null,
   "metadata": {
    "deletable": false,
    "editable": false,
    "nbgrader": {
     "cell_type": "code",
     "checksum": "e0fff3d54a3d9f40ff5d25bdfef060ec",
     "grade": true,
     "grade_id": "cell-c037162278272a82",
     "locked": true,
     "points": 1,
     "schema_version": 3,
     "solution": false,
     "task": false
    }
   },
   "outputs": [],
   "source": [
    "Ahat, Q = symtridiagonalize(A)\n",
    "np.allclose(A, Q @ Ahat @ Q.T)"
   ]
  },
  {
   "cell_type": "markdown",
   "metadata": {},
   "source": [
    "## Eigensolvers\n",
    "\n",
    "This reduction to tridiagonal (or, for non-symmetric matrices, Hessenberg) form is the first step for all modern eigensolvers. Eigensolver algorithms such as the [QR Algorithm for eigenvalues](https://en.wikipedia.org/wiki/QR_algorithm) (not to be confused with QR factorization) are necessarily iterative and those iterations are much less expensive when working with tridiagonal or Hessenberg matrices.\n",
    "\n",
    "## Low-rank matrix compression\n",
    "\n",
    "Consider the gravitational force from a star at position $x_1$ acting on a star at position $x_0$,\n",
    "$$ F_{0,1} = G \\frac{m_0 m_1}{\\lVert x_1 - x_0 \\rVert^3} (x_1 - x_0) $$\n",
    "where $m_0$ and $m_1$ are the masses of each star respectively.\n",
    "Suppose we have two galaxies of size $n_0 = 100$ and $n_1 = 200$, each randomly distributed around their respective centers."
   ]
  },
  {
   "cell_type": "code",
   "execution_count": null,
   "metadata": {},
   "outputs": [],
   "source": [
    "def galaxy(center, sigma, n):\n",
    "    center = np.array(center)\n",
    "    return center + sigma*np.random.randn(n, 3)\n",
    "\n",
    "G0 = galaxy([0,0,0], 1, 100)\n",
    "G1 = galaxy([20,0,0], 1, 200)\n",
    "\n",
    "plt.plot(G0[:,0], G0[:,1], 'o')\n",
    "plt.plot(G1[:,0], G1[:,1], 's')\n",
    "plt.axis('equal');"
   ]
  },
  {
   "cell_type": "markdown",
   "metadata": {},
   "source": [
    "We can create the dense matrix with the force from galaxy $G_1$ acting on each star in $G_0$."
   ]
  },
  {
   "cell_type": "code",
   "execution_count": null,
   "metadata": {},
   "outputs": [],
   "source": [
    "def gravity(g0, g1):\n",
    "    m = g0.shape[0]\n",
    "    n = g1.shape[0]\n",
    "    A = np.zeros((3*m, n))\n",
    "    for i in range(m):\n",
    "        r = g1.T - np.outer(g0[i,:], np.ones(n))\n",
    "        A[3*i:3*i+3, :] = r / np.linalg.norm(r, axis=0)**3\n",
    "    return A\n",
    "\n",
    "A = gravity(G0, G1)"
   ]
  },
  {
   "cell_type": "markdown",
   "metadata": {},
   "source": [
    "This matrix can be compressed using an SVD,\n",
    "$$ U \\Sigma V = A $$\n",
    "where $U$ and $V^T$ have orthonormal columns and $\\Sigma$ is diagonal."
   ]
  },
  {
   "cell_type": "code",
   "execution_count": null,
   "metadata": {},
   "outputs": [],
   "source": [
    "U, S, V = np.linalg.svd(A, full_matrices=False)\n",
    "plt.semilogy(S)\n",
    "S[:20]"
   ]
  },
  {
   "cell_type": "markdown",
   "metadata": {},
   "source": [
    "Create a rank `k` truncated SVD\n",
    "$$ \\hat U \\hat S \\hat V \\approx A $$\n",
    "that approximates $A$ to a tolerance of less than $10^{-5}$.  This approximation can be applied in $O(mk + nk)$."
   ]
  },
  {
   "cell_type": "code",
   "execution_count": null,
   "metadata": {
    "deletable": false,
    "nbgrader": {
     "cell_type": "code",
     "checksum": "bd75819537a88a3968e11aba1557df8c",
     "grade": false,
     "grade_id": "cell-2a8e25ad46bc3545",
     "locked": false,
     "schema_version": 3,
     "solution": true,
     "task": false
    }
   },
   "outputs": [],
   "source": [
    "def truncate_approximation(A):\n",
    "    U, S, V = np.linalg.svd(A, full_matrices=False)\n",
    "    # YOUR CODE HERE\n",
    "    raise NotImplementedError()\n",
    "    return Uhat, Shat, Vhat\n",
    "\n"
   ]
  },
  {
   "cell_type": "code",
   "execution_count": null,
   "metadata": {
    "deletable": false,
    "editable": false,
    "nbgrader": {
     "cell_type": "code",
     "checksum": "cbeb2c08017a2f8f2b1d39742a13c7b1",
     "grade": true,
     "grade_id": "cell-36111846eab420d2",
     "locked": true,
     "points": 1,
     "schema_version": 3,
     "solution": false,
     "task": false
    }
   },
   "outputs": [],
   "source": [
    "Uhat, Shat, Vhat = truncate_approximation(A)\n",
    "assert np.linalg.norm(Uhat @ (Shat[:,None] * Vhat) - A) < 1e-5\n",
    "assert len(Shat) < 20, \"Your approximation is too expensive\"\n",
    "print('Tests pass')"
   ]
  },
  {
   "cell_type": "markdown",
   "metadata": {},
   "source": [
    "### Experiment\n",
    "\n",
    "Experiment with the distance between the galaxy centers and their size `sigma`."
   ]
  },
  {
   "cell_type": "code",
   "execution_count": null,
   "metadata": {},
   "outputs": [],
   "source": [
    "dist = 20\n",
    "sigma = 1\n",
    "\n",
    "A = gravity(galaxy([0,0,0], sigma, 100),\n",
    "            galaxy([0,0,dist], sigma, 200))\n",
    "U, S, V = np.linalg.svd(A, full_matrices=False)\n",
    "plt.semilogy(S);"
   ]
  },
  {
   "cell_type": "markdown",
   "metadata": {
    "deletable": false,
    "editable": false,
    "nbgrader": {
     "cell_type": "markdown",
     "checksum": "3a1fe8cfc370b8f461264199ac69ad08",
     "grade": false,
     "grade_id": "cell-58d4b51b3953d865",
     "locked": true,
     "schema_version": 3,
     "solution": false,
     "task": false
    }
   },
   "source": [
    "Explain the effect of `dist` and `sigma` on the rank `k` of the approximation necessary to attain a given tolerance.  Write your answer below."
   ]
  },
  {
   "cell_type": "code",
   "execution_count": null,
   "metadata": {
    "deletable": false,
    "nbgrader": {
     "cell_type": "code",
     "checksum": "28b7080935ebedc9d6e03861e360d9e5",
     "grade": true,
     "grade_id": "cell-7c7d66b5b5e64d21",
     "locked": false,
     "points": 1,
     "schema_version": 3,
     "solution": true,
     "task": false
    }
   },
   "outputs": [],
   "source": [
    "# YOUR CODE HERE\n",
    "raise NotImplementedError()"
   ]
  }
 ],
 "metadata": {
  "kernelspec": {
   "display_name": "Python 3",
   "language": "python",
   "name": "python3"
  },
  "language_info": {
   "codemirror_mode": {
    "name": "ipython",
    "version": 3
   },
   "file_extension": ".py",
   "mimetype": "text/x-python",
   "name": "python",
   "nbconvert_exporter": "python",
   "pygments_lexer": "ipython3",
   "version": "3.6.7"
  }
 },
 "nbformat": 4,
 "nbformat_minor": 2
}
