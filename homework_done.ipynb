{
 "cells": [
  {
   "cell_type": "markdown",
   "metadata": {},
   "source": [
    "Before you turn this problem in, make sure everything runs as expected. First, **restart the kernel** (in the menubar, select Kernel$\\rightarrow$Restart) and then **run all cells** (in the menubar, select Cell$\\rightarrow$Run All).\n",
    "\n",
    "Make sure you fill in any place that says `YOUR CODE HERE` or \"YOUR ANSWER HERE\", as well as your name and collaborators below:"
   ]
  },
  {
   "cell_type": "code",
   "execution_count": 1,
   "metadata": {},
   "outputs": [],
   "source": [
    "NAME = \"\"\n",
    "COLLABORATORS = \"\""
   ]
  },
  {
   "cell_type": "markdown",
   "metadata": {},
   "source": [
    "---"
   ]
  },
  {
   "cell_type": "markdown",
   "metadata": {},
   "source": [
    "# Homework 3: Matrix Transforms\n",
    "\n",
    "In this homework, we will look at different ways to represent and transform matrices.\n",
    "\n",
    "### Householder similarity transforms\n",
    "\n",
    "Suppose we are given a square symmetric matrix $A$.  What sort of algorithm could we use to construct a symmetric tridiagonal matrix $\\hat A$ such that\n",
    "$$ A = Q \\hat A Q^T $$\n",
    "where $Q$ is an orthogonal matrix.\n",
    "We'll construct such a matrix $Q$ out of elementary reflectors, much like we did in Householder QR."
   ]
  },
  {
   "cell_type": "code",
   "execution_count": 2,
   "metadata": {},
   "outputs": [
    {
     "data": {
      "text/plain": [
       "array([[1.4403, 0.7911, 1.0108, 1.1928],\n",
       "       [0.7911, 1.5731, 0.227 , 1.6522],\n",
       "       [1.0108, 0.227 , 1.8489, 1.1329],\n",
       "       [1.1928, 1.6522, 1.1329, 1.2728]])"
      ]
     },
     "execution_count": 2,
     "metadata": {},
     "output_type": "execute_result"
    }
   ],
   "source": [
    "%matplotlib inline\n",
    "import numpy as np\n",
    "import matplotlib.pyplot as plt\n",
    "from scipy.linalg import block_diag\n",
    "plt.style.use('seaborn')\n",
    "np.set_printoptions(precision=4)\n",
    "\n",
    "A = np.random.rand(4, 4)\n",
    "A = A + A.T # Random symmetric matrix\n",
    "A"
   ]
  },
  {
   "cell_type": "markdown",
   "metadata": {},
   "source": [
    "We'll create a Householder-style reflector matrix for column 0, to introduce zeros below the *tridiagonal*."
   ]
  },
  {
   "cell_type": "code",
   "execution_count": 3,
   "metadata": {
    "scrolled": true
   },
   "outputs": [
    {
     "name": "stdout",
     "output_type": "stream",
     "text": [
      "[0.7911 1.0108 1.1928]\n",
      "[-0.9611  1.0108  1.1928]\n",
      "[[ 0.4515  0.5768  0.6807]\n",
      " [ 0.5768  0.3934 -0.7159]\n",
      " [ 0.6807 -0.7159  0.1551]]\n"
     ]
    },
    {
     "data": {
      "text/plain": [
       "array([[ 1.    ,  0.    ,  0.    ,  0.    ],\n",
       "       [ 0.    ,  0.4515,  0.5768,  0.6807],\n",
       "       [ 0.    ,  0.5768,  0.3934, -0.7159],\n",
       "       [ 0.    ,  0.6807, -0.7159,  0.1551]])"
      ]
     },
     "execution_count": 3,
     "metadata": {},
     "output_type": "execute_result"
    }
   ],
   "source": [
    "def reflector(v):\n",
    "    return np.eye(len(v)) - 2*np.outer(v, v)\n",
    "\n",
    "v = A[1:,0].copy()\n",
    "print(v)\n",
    "v[0] -= np.linalg.norm(v)\n",
    "print(v)\n",
    "v = v / np.linalg.norm(v)\n",
    "F = reflector(v)\n",
    "print(F)\n",
    "Q_0 = block_diag(np.eye(1), F)\n",
    "Q_0"
   ]
  },
  {
   "cell_type": "code",
   "execution_count": 4,
   "metadata": {
    "scrolled": true
   },
   "outputs": [
    {
     "data": {
      "text/plain": [
       "array([[ 1.4403e+00,  7.9110e-01,  1.0108e+00,  1.1928e+00],\n",
       "       [ 1.7522e+00,  1.9659e+00,  1.9402e+00,  2.2659e+00],\n",
       "       [ 2.2204e-16, -1.8611e-01,  4.7191e-02,  4.8752e-01],\n",
       "       [ 2.2204e-16,  1.1647e+00, -9.9330e-01,  5.1119e-01]])"
      ]
     },
     "execution_count": 4,
     "metadata": {},
     "output_type": "execute_result"
    }
   ],
   "source": [
    "# Introduce zeros below the tridiagonal in column 0.\n",
    "Q_0 @ A"
   ]
  },
  {
   "cell_type": "code",
   "execution_count": 5,
   "metadata": {},
   "outputs": [
    {
     "data": {
      "text/plain": [
       "array([[ 1.4403e+00,  1.7522e+00,  2.2204e-16,  2.2204e-16],\n",
       "       [ 1.7522e+00,  3.5493e+00,  2.7507e-01,  3.0086e-01],\n",
       "       [ 2.2204e-16,  2.7507e-01, -4.3781e-01, -8.4837e-02],\n",
       "       [ 2.2204e-16,  3.0086e-01, -8.4837e-02,  1.5833e+00]])"
      ]
     },
     "execution_count": 5,
     "metadata": {},
     "output_type": "execute_result"
    }
   ],
   "source": [
    "# Same in the first row\n",
    "A_1 = Q_0 @ A @ Q_0\n",
    "A_1"
   ]
  },
  {
   "cell_type": "markdown",
   "metadata": {},
   "source": [
    "## Efficiency\n",
    "\n",
    "In the above, we have computed\n",
    "$$ A_1 := Q_0 A Q_0 $$\n",
    "(note that $Q_0 = Q_0^T$) using a very inefficient algorithm.\n",
    "Instead of creating the dense $n\\times n$ reflector $F$ above and then multiplying it at $O(n^3)$ cost, write a function that applies the reflector to a matrix at $O(n^2)$ cost.  Recall that\n",
    "$$ (I - 2 v v^T) B = B - 2 v (v^T B) $$\n",
    "and also that\n",
    "$$ B (I - 2 v v^T) = B - 2 (B v) v^T . $$\n",
    "Also note that you can take the submatrix all but row 0 using `B[1:]` and all but column 0 using `B[:,1:]`."
   ]
  },
  {
   "cell_type": "code",
   "execution_count": 6,
   "metadata": {
    "deletable": false,
    "nbgrader": {
     "cell_type": "code",
     "checksum": "3e15abb26d845139c0b756c4be43aaaa",
     "grade": false,
     "grade_id": "cell-b4a691ab5867f9de",
     "locked": false,
     "schema_version": 3,
     "solution": true,
     "task": false
    }
   },
   "outputs": [
    {
     "data": {
      "text/plain": [
       "array([[ 1.4403e+00,  1.7522e+00,  2.2204e-16,  2.2204e-16],\n",
       "       [ 1.7522e+00,  3.5493e+00,  2.7507e-01,  3.0086e-01],\n",
       "       [ 2.2204e-16,  2.7507e-01, -4.3781e-01, -8.4837e-02],\n",
       "       [ 2.2204e-16,  3.0086e-01, -8.4837e-02,  1.5833e+00]])"
      ]
     },
     "execution_count": 6,
     "metadata": {},
     "output_type": "execute_result"
    }
   ],
   "source": [
    "def symreflect(A, v):\n",
    "    \"\"\"Efficiently compute Q_0 A Q_0 where Q_0 is defined in terms of v.\n",
    "    \"\"\"\n",
    "    B = A.copy() # Make a copy so we don't modify A\n",
    "    # Modify B by applying reflections.\n",
    "    # This line applies the reflection on the left, storing the result in-place.\n",
    "    B[1:] -= 2 * np.outer(v, v @ B[1:])\n",
    "    # Now you write code to apply a similar reflection on the right.\n",
    "    B[:,1:] -= 2 * np.outer( B[:,1:] @ v,v)\n",
    "    block_diag(np.eye(1), B[1:])\n",
    "    return B\n",
    "\n",
    "symreflect(A, v)"
   ]
  },
  {
   "cell_type": "code",
   "execution_count": 7,
   "metadata": {
    "deletable": false,
    "editable": false,
    "nbgrader": {
     "cell_type": "code",
     "checksum": "b26ca27103dccd95c836fbffd9bb5a9b",
     "grade": true,
     "grade_id": "cell-6b2a9f0f76ccc890",
     "locked": true,
     "points": 1,
     "schema_version": 3,
     "solution": false,
     "task": false
    }
   },
   "outputs": [
    {
     "name": "stdout",
     "output_type": "stream",
     "text": [
      "Tests pass\n"
     ]
    }
   ],
   "source": [
    "def symreflect_naive(A, v):\n",
    "    F = reflector(v)\n",
    "    Q_0 = block_diag(np.eye(1), F)\n",
    "    return Q_0 @ A @ Q_0\n",
    "\n",
    "assert np.allclose(symreflect(A, v), symreflect_naive(A, v))\n",
    "print('Tests pass')"
   ]
  },
  {
   "cell_type": "markdown",
   "metadata": {},
   "source": [
    "## Tridiagonalization\n",
    "\n",
    "Suppose we implement a sequence of transformations $Q_0, Q_1, \\dotsc$ to introduce zeros in successive columns and rows.  Then we'll have\n",
    "\\begin{align}\n",
    "\\hat A &= \\dotsb Q_2 \\Big( Q_1 ( Q_0 A Q_0 ) Q_1 \\Big) Q_2 \\dotsb \\\\\n",
    "&= \\underbrace{\\dotsb Q_2 Q_1 Q_0}_{Q^T} A \\underbrace{Q_0 Q_1 Q_2 \\dotsb}_{Q}\n",
    "\\end{align}\n",
    "which is an orthogonal reduction to symmetric tridiagonal form.\n",
    "\n",
    "First, we note that the natural way to store $Q$ is as a list of reflector vectors $v$.\n",
    "To check our results, we'd like to be able to make $Q$ as an explicit matrix.  This function is a near copy of one in the Linear Algebra notebook."
   ]
  },
  {
   "cell_type": "code",
   "execution_count": 8,
   "metadata": {},
   "outputs": [],
   "source": [
    "def Q_times_x(V, x):\n",
    "    \"\"\"Apply orthogonal matrix Q represented as list of Householder reflectors\"\"\"\n",
    "    y = x.copy()\n",
    "    for v in reversed(V):\n",
    "        i = -len(v)\n",
    "        y[i:] -= 2 * v * (v @ y[i:])\n",
    "    return y\n",
    "\n",
    "def Q_as_explicit(V):\n",
    "    m = len(V[0]) + 1\n",
    "    Q = np.eye(m)\n",
    "    for i, col in enumerate(Q.T):\n",
    "        Q[:,i] = Q_times_x(V, col)\n",
    "    return Q"
   ]
  },
  {
   "cell_type": "code",
   "execution_count": 9,
   "metadata": {
    "deletable": false,
    "nbgrader": {
     "cell_type": "code",
     "checksum": "9f8313d24bfe38409298e41957f19a50",
     "grade": false,
     "grade_id": "cell-40dee18676d0b32f",
     "locked": false,
     "schema_version": 3,
     "solution": true,
     "task": false
    }
   },
   "outputs": [
    {
     "name": "stdout",
     "output_type": "stream",
     "text": [
      "[0.7911 1.0108 1.1928]\n",
      "[-0.9611  1.0108  1.1928]\n",
      "[-0.5237  0.5507  0.6499]\n",
      "[0.2751 0.3009]\n",
      "[-0.1326  0.3009]\n",
      "[-0.4033  0.9151]\n",
      "[[ 1.4403e+00  1.7522e+00  2.2204e-16  2.2204e-16]\n",
      " [ 1.7522e+00  3.5493e+00  4.0765e-01 -1.6653e-16]\n",
      " [ 2.2204e-16  4.0765e-01  5.7853e-01 -1.0141e+00]\n",
      " [ 2.2204e-16 -5.5511e-17 -1.0141e+00  5.6694e-01]]\n",
      "Error: 8.120581339769891e-16\n"
     ]
    }
   ],
   "source": [
    "def symtridiagonalize(A):\n",
    "    \"\"\"Reduce the symmetric matrix A to tridiagonal form using\n",
    "    orthogonal transformation Q^T A Q.\n",
    "    \"\"\"\n",
    "    B = A.copy()\n",
    "    n = len(B)\n",
    "    V = []\n",
    "    for i in range(n - 2):\n",
    "        v = B[i+1:,i].copy()\n",
    "        # Turn v into a normalized vector representing\n",
    "        # the reflection I - 2 v v^T\n",
    "        # YOUR CODE HERE\n",
    "        print(v)\n",
    "        v[0] -= np.linalg.norm(v)\n",
    "        print(v)\n",
    "        v = v / np.linalg.norm(v)\n",
    "        print(v)\n",
    "       # raise NotImplementedError()\n",
    "        B[i:, i:] = symreflect(B[i:, i:], v)\n",
    "        V.append(v)\n",
    "    return B, Q_as_explicit(V)\n",
    "\n",
    "Ahat, Q = symtridiagonalize(A)\n",
    "print(Ahat) # Symmetric and tridiagonal\n",
    "print('Error:', np.linalg.norm(Q.T @ A @ Q - Ahat))"
   ]
  },
  {
   "cell_type": "code",
   "execution_count": 10,
   "metadata": {
    "deletable": false,
    "editable": false,
    "nbgrader": {
     "cell_type": "code",
     "checksum": "e0fff3d54a3d9f40ff5d25bdfef060ec",
     "grade": true,
     "grade_id": "cell-c037162278272a82",
     "locked": true,
     "points": 1,
     "schema_version": 3,
     "solution": false,
     "task": false
    }
   },
   "outputs": [
    {
     "name": "stdout",
     "output_type": "stream",
     "text": [
      "[0.7911 1.0108 1.1928]\n",
      "[-0.9611  1.0108  1.1928]\n",
      "[-0.5237  0.5507  0.6499]\n",
      "[0.2751 0.3009]\n",
      "[-0.1326  0.3009]\n",
      "[-0.4033  0.9151]\n"
     ]
    },
    {
     "data": {
      "text/plain": [
       "True"
      ]
     },
     "execution_count": 10,
     "metadata": {},
     "output_type": "execute_result"
    }
   ],
   "source": [
    "Ahat, Q = symtridiagonalize(A)\n",
    "np.allclose(A, Q @ Ahat @ Q.T)"
   ]
  },
  {
   "cell_type": "markdown",
   "metadata": {},
   "source": [
    "## Eigensolvers\n",
    "\n",
    "This reduction to tridiagonal (or, for non-symmetric matrices, Hessenberg) form is the first step for all modern eigensolvers. Eigensolver algorithms such as the [QR Algorithm for eigenvalues](https://en.wikipedia.org/wiki/QR_algorithm) (not to be confused with QR factorization) are necessarily iterative and those iterations are much less expensive when working with tridiagonal or Hessenberg matrices.\n",
    "\n",
    "## Low-rank matrix compression\n",
    "\n",
    "Consider the gravitational force from a star at position $x_1$ acting on a star at position $x_0$,\n",
    "$$ F_{0,1} = G \\frac{m_0 m_1}{\\lVert x_1 - x_0 \\rVert^3} (x_1 - x_0) $$\n",
    "where $m_0$ and $m_1$ are the masses of each star respectively.\n",
    "Suppose we have two galaxies of size $n_0 = 100$ and $n_1 = 200$, each randomly distributed around their respective centers."
   ]
  },
  {
   "cell_type": "code",
   "execution_count": 11,
   "metadata": {},
   "outputs": [
    {
     "name": "stdout",
     "output_type": "stream",
     "text": [
      "[[ 1.6357e+00  6.0687e-01  4.7941e-01]\n",
      " [ 1.7480e+00 -2.4287e+00  7.1387e-01]\n",
      " [ 5.4433e-01 -1.7237e+00 -1.2772e+00]\n",
      " [-2.3990e+00 -1.0134e-01  9.2589e-01]\n",
      " [ 1.2130e+00  1.1597e+00 -2.9793e+00]\n",
      " [-1.3488e+00  9.2025e-01  2.4449e-01]\n",
      " [ 2.9415e-01 -6.6422e-02  1.1773e+00]\n",
      " [ 2.2179e+00 -4.7178e-01 -1.5233e+00]\n",
      " [-2.8219e-01 -3.2409e-01 -1.7608e-01]\n",
      " [-7.0494e-01 -2.0342e+00  7.3670e-01]\n",
      " [-1.0345e+00  5.8928e-02  9.7330e-01]\n",
      " [ 2.9667e-01 -3.7626e+00  1.8061e+00]\n",
      " [ 1.4776e+00  2.9680e-01  1.3612e+00]\n",
      " [ 4.4439e-01 -7.9994e-01  7.9746e-01]\n",
      " [ 1.1826e+00 -7.4665e-01  9.0039e-02]\n",
      " [-1.4817e-01  8.6954e-01 -1.7164e-02]\n",
      " [-3.1044e-01  1.0835e+00  1.4015e+00]\n",
      " [ 4.1936e-01  1.3354e+00  3.7942e-01]\n",
      " [ 5.7398e-01  1.4118e+00 -4.4029e-01]\n",
      " [ 1.7111e+00  4.6382e-02  7.5143e-01]\n",
      " [ 1.3881e+00 -6.8187e-01  8.7593e-01]\n",
      " [ 8.2058e-02  4.5787e-01  2.1013e-01]\n",
      " [ 6.2080e-01  2.3875e-01  3.1718e-01]\n",
      " [ 1.0430e+00 -8.6477e-01  4.7783e-01]\n",
      " [ 8.6109e-01 -2.6147e-01  2.2048e+00]\n",
      " [-1.0563e+00 -1.8007e+00  5.6292e-01]\n",
      " [ 9.3176e-01  1.2162e+00 -1.4288e-01]\n",
      " [-1.8157e+00 -1.4933e+00 -2.4152e-01]\n",
      " [-5.2569e-01  1.7517e+00 -1.5774e+00]\n",
      " [ 2.4990e-01  4.5831e-01 -6.8648e-01]\n",
      " [ 3.4127e-01 -5.1521e-01  8.9694e-01]\n",
      " [-4.6911e-01 -1.5601e+00 -4.7914e-01]\n",
      " [-6.7591e-01  1.2023e+00  1.7060e+00]\n",
      " [-1.5169e+00  4.7159e-02  1.1679e+00]\n",
      " [-1.3265e+00  4.8663e-01 -2.6775e-01]\n",
      " [-4.3417e-01 -4.4619e-01  1.0362e+00]\n",
      " [-2.3551e-01  1.3171e+00  6.5226e-01]\n",
      " [ 9.3422e-02 -1.2583e+00  5.1111e-01]\n",
      " [ 5.6520e-01 -1.6977e+00  1.1203e+00]\n",
      " [ 1.2331e+00 -1.5784e+00  5.5171e-01]\n",
      " [ 4.9292e-01 -1.4301e+00 -2.2878e+00]\n",
      " [ 5.1028e-01 -1.2022e+00  5.2742e-01]\n",
      " [-4.6885e-01 -3.6187e-01  1.9209e-01]\n",
      " [-1.1374e-01  9.1366e-01 -1.4585e+00]\n",
      " [ 5.5300e-01  1.0861e+00  6.9367e-01]\n",
      " [-1.0236e+00 -5.9890e-01  4.0605e-01]\n",
      " [ 3.2883e-01  3.4638e-01  3.2484e-01]\n",
      " [-1.5151e+00  5.3293e-01 -3.1508e-01]\n",
      " [ 5.8125e-01  8.4543e-02 -2.2546e+00]\n",
      " [-7.5861e-01  7.0037e-01  1.7175e+00]\n",
      " [ 1.6328e-01 -6.8752e-01 -1.1163e+00]\n",
      " [-1.9889e-01  1.3730e+00  1.4503e-01]\n",
      " [ 7.6548e-01  9.0306e-01 -1.1548e-03]\n",
      " [-1.0924e-01 -8.1715e-01 -3.9993e-01]\n",
      " [ 5.2060e-01  5.4391e-01  8.7638e-01]\n",
      " [ 4.0068e-01  8.7807e-01  7.2311e-01]\n",
      " [-1.0216e+00  1.4691e+00  3.3665e-01]\n",
      " [-7.5850e-01 -1.0474e+00  3.6873e-01]\n",
      " [ 3.0680e-01  1.6811e-01  1.6450e+00]\n",
      " [-3.0093e-03  1.0721e-01  2.3271e+00]\n",
      " [-3.8526e-01  9.5905e-01  1.6930e-01]\n",
      " [ 1.5323e+00  7.6840e-02 -8.5270e-01]\n",
      " [-3.2335e-01 -7.6729e-01  2.5877e-01]\n",
      " [ 6.0285e-01  1.1644e+00  1.4801e+00]\n",
      " [-1.4034e+00  1.2031e+00  8.0825e-01]\n",
      " [ 1.9487e+00  2.9249e-01  5.6543e-01]\n",
      " [ 6.6187e-01 -1.0355e+00 -9.0801e-01]\n",
      " [ 2.8332e+00 -1.8033e-02  2.2106e+00]\n",
      " [-8.8879e-01  2.4472e-01  1.8406e+00]\n",
      " [-1.2242e+00  1.2492e-01 -6.8793e-01]\n",
      " [ 1.2401e+00 -1.0338e-01  1.9744e+00]\n",
      " [-1.3158e+00  3.1312e+00  1.3143e+00]\n",
      " [-6.0567e-01  5.8067e-01  9.1572e-02]\n",
      " [ 5.0805e-01 -2.1781e-01 -2.1753e+00]\n",
      " [ 1.4204e+00 -3.4897e-01 -6.1098e-01]\n",
      " [ 8.2045e-01  4.5489e-01  8.4683e-01]\n",
      " [-2.0041e+00  9.7886e-01 -9.5738e-01]\n",
      " [-1.5377e+00 -1.0742e+00 -2.4986e-01]\n",
      " [-7.0754e-01 -9.7982e-01 -3.8566e-01]\n",
      " [-5.6559e-01 -2.6878e+00 -3.6570e-01]\n",
      " [-7.8315e-02 -3.7925e-01 -1.0882e+00]\n",
      " [ 4.2677e-01  1.7139e+00 -1.0851e+00]\n",
      " [ 2.4125e-01  3.2403e-01 -2.1325e-01]\n",
      " [-2.1822e-01 -1.0800e+00 -1.4859e+00]\n",
      " [-6.7763e-01 -1.7015e+00 -5.7559e-01]\n",
      " [-1.2463e+00 -7.6396e-01 -8.0651e-01]\n",
      " [ 6.4366e-01 -9.8809e-01  1.6269e+00]\n",
      " [-9.6558e-02 -4.3542e-01  2.2008e+00]\n",
      " [-1.3865e+00 -2.0579e-01  1.0205e+00]\n",
      " [-1.0335e+00  1.3696e+00 -1.1083e+00]\n",
      " [ 1.0703e-01  8.0366e-01 -1.2381e+00]\n",
      " [-1.4923e-01 -5.7172e-01  5.0687e-01]\n",
      " [-1.4055e+00 -1.0413e+00  2.8858e-01]\n",
      " [ 5.3990e-01  3.4703e-01 -2.4263e-01]\n",
      " [ 1.5216e+00  1.1395e-01  7.0278e-01]\n",
      " [-9.7926e-01 -1.5885e+00 -4.6306e-01]\n",
      " [ 9.0295e-01  1.2465e+00  2.8073e-01]\n",
      " [ 6.4497e-01 -5.6009e-01  1.1529e+00]\n",
      " [ 1.0996e+00  9.5927e-01  1.2455e+00]\n",
      " [ 1.0474e-01 -1.0073e+00  3.4185e-01]]\n",
      "[[ 1.7708e+01  7.5076e-01  2.7168e-01]\n",
      " [ 1.9819e+01  4.2362e-01 -1.7504e+00]\n",
      " [ 1.9591e+01  3.7124e-01  8.3255e-01]\n",
      " [ 2.0992e+01  7.5179e-01  1.9607e+00]\n",
      " [ 2.0274e+01 -1.4653e+00  9.7397e-02]\n",
      " [ 2.0026e+01 -9.2168e-01  4.8312e-01]\n",
      " [ 2.0516e+01  3.3203e-01 -1.3177e+00]\n",
      " [ 1.9425e+01  5.0960e-01 -1.2546e+00]\n",
      " [ 2.0188e+01  7.5294e-01 -1.8440e-01]\n",
      " [ 1.9492e+01  1.0247e+00  1.1125e+00]\n",
      " [ 1.9168e+01  4.6399e-01 -2.0817e-01]\n",
      " [ 1.9266e+01  4.6082e-01 -1.5466e-01]\n",
      " [ 2.0011e+01 -9.4914e-01  1.1052e+00]\n",
      " [ 1.9387e+01 -7.9371e-01 -1.7526e-01]\n",
      " [ 1.9504e+01 -8.5353e-02 -2.7848e-01]\n",
      " [ 2.1258e+01 -4.3960e-01 -6.9213e-01]\n",
      " [ 2.0945e+01 -2.3963e-01 -3.3890e-01]\n",
      " [ 1.9696e+01  8.8145e-01 -6.8785e-01]\n",
      " [ 1.9272e+01  1.6770e-01  2.2406e-01]\n",
      " [ 2.1723e+01  1.2774e+00  3.9921e-01]\n",
      " [ 1.9612e+01  7.9646e-01 -4.5327e-01]\n",
      " [ 2.0455e+01 -5.5031e-01  2.8377e-01]\n",
      " [ 2.0010e+01 -4.2000e-01  1.3000e+00]\n",
      " [ 1.9360e+01 -8.7993e-01  1.2620e+00]\n",
      " [ 1.9548e+01  6.9762e-01 -1.7222e-01]\n",
      " [ 2.0968e+01 -6.6748e-01 -5.5766e-01]\n",
      " [ 2.0495e+01  2.6779e+00  8.8708e-02]\n",
      " [ 1.9768e+01  5.4316e-01 -1.5914e+00]\n",
      " [ 2.2032e+01  7.8965e-01  6.9261e-01]\n",
      " [ 2.0073e+01  3.4619e-01  1.1216e+00]\n",
      " [ 2.0044e+01 -1.2586e+00 -3.1825e-02]\n",
      " [ 1.8986e+01  3.1899e-01 -7.2467e-01]\n",
      " [ 2.0286e+01  4.7480e-01  2.2932e-01]\n",
      " [ 1.9904e+01 -4.2988e-01  1.1865e+00]\n",
      " [ 2.1916e+01 -9.8082e-01  4.9021e-01]\n",
      " [ 2.0253e+01 -5.2288e-01 -1.7396e+00]\n",
      " [ 2.0651e+01  3.8359e-01 -6.4220e-01]\n",
      " [ 2.1146e+01 -1.4614e+00 -1.0470e+00]\n",
      " [ 2.0255e+01 -1.7428e-01  9.0966e-01]\n",
      " [ 1.9759e+01  7.0933e-01  1.6941e+00]\n",
      " [ 1.8457e+01  1.0669e+00 -5.7335e-01]\n",
      " [ 2.0902e+01  3.6155e-01 -2.4720e-02]\n",
      " [ 2.1970e+01 -1.3754e+00  1.7707e+00]\n",
      " [ 2.2184e+01 -8.1831e-01  9.3553e-01]\n",
      " [ 1.9530e+01  5.6672e-01  1.8866e-01]\n",
      " [ 1.9893e+01  2.7039e+00  6.6527e-01]\n",
      " [ 2.1279e+01  6.2378e-01 -1.0390e+00]\n",
      " [ 1.9063e+01 -7.7745e-01  1.0122e+00]\n",
      " [ 1.8427e+01 -1.5741e+00  1.4427e-01]\n",
      " [ 2.2035e+01 -5.1404e-01  4.3637e-01]\n",
      " [ 1.8764e+01 -9.6137e-01  1.5440e-01]\n",
      " [ 1.9300e+01  1.1408e+00  1.5305e+00]\n",
      " [ 2.0322e+01 -8.5957e-01  1.5754e+00]\n",
      " [ 1.7282e+01  8.9829e-01 -1.8903e-01]\n",
      " [ 2.2269e+01  1.9613e+00 -1.9928e-01]\n",
      " [ 2.2222e+01 -8.7635e-01  1.9395e+00]\n",
      " [ 2.0622e+01 -1.5227e+00 -6.8588e-01]\n",
      " [ 2.0944e+01  1.5634e-02 -1.5889e+00]\n",
      " [ 1.9239e+01 -9.6553e-01 -1.9571e-01]\n",
      " [ 1.9742e+01 -2.0478e+00 -6.9229e-01]\n",
      " [ 2.1912e+01  5.9797e-01  9.2740e-01]\n",
      " [ 2.0292e+01 -3.6614e-01  1.2358e-01]\n",
      " [ 1.7669e+01  1.4263e-01 -3.1186e-01]\n",
      " [ 2.0413e+01 -4.8350e-02 -2.1667e-01]\n",
      " [ 2.0276e+01  1.3323e+00  2.5449e-02]\n",
      " [ 2.0665e+01 -6.8053e-01  7.4020e-01]\n",
      " [ 1.9544e+01  5.7882e-01  1.8255e+00]\n",
      " [ 2.0704e+01 -7.6554e-01 -3.8545e-01]\n",
      " [ 2.0048e+01 -3.0990e-01 -9.4794e-01]\n",
      " [ 2.0207e+01 -1.6585e-01  8.4671e-01]\n",
      " [ 2.0640e+01  4.1935e-01 -7.7241e-01]\n",
      " [ 2.1212e+01  1.5742e+00  1.2554e+00]\n",
      " [ 2.0907e+01  1.8433e+00  5.9215e-01]\n",
      " [ 1.8083e+01  7.1026e-01  6.0850e-01]\n",
      " [ 2.0751e+01  3.5857e-01 -8.6272e-01]\n",
      " [ 1.9834e+01 -1.0070e+00  9.1032e-01]\n",
      " [ 2.0541e+01  1.7682e+00  1.3893e+00]\n",
      " [ 1.9243e+01  2.8339e-01  1.4754e+00]\n",
      " [ 2.0425e+01  4.9437e-02 -3.0042e-01]\n",
      " [ 1.9223e+01  3.6381e-01  2.9259e-01]\n",
      " [ 1.7708e+01  2.8766e-01 -9.2322e-01]\n",
      " [ 1.9896e+01 -1.0010e+00  2.3687e+00]\n",
      " [ 2.0917e+01 -2.4120e+00 -9.8928e-01]\n",
      " [ 1.9032e+01  5.0957e-01 -1.3839e+00]\n",
      " [ 1.9100e+01 -1.0454e-01  6.5259e-01]\n",
      " [ 1.9102e+01  1.3094e+00 -7.3261e-01]\n",
      " [ 2.0768e+01 -4.4803e-01 -1.0743e+00]\n",
      " [ 1.9367e+01  8.8332e-01  3.7918e-01]\n",
      " [ 1.9924e+01 -1.8305e+00 -4.6367e-01]\n",
      " [ 1.9846e+01 -5.7044e-01 -1.1481e+00]\n",
      " [ 1.9957e+01 -1.7417e-01  9.9526e-01]\n",
      " [ 1.9718e+01 -5.6880e-01  6.9659e-01]\n",
      " [ 2.1036e+01  8.6270e-01 -1.5853e+00]\n",
      " [ 2.0882e+01  7.3357e-01 -6.5920e-01]\n",
      " [ 2.1105e+01 -3.6504e-01 -3.8359e-01]\n",
      " [ 1.9984e+01  6.0063e-01 -8.8835e-02]\n",
      " [ 2.0202e+01  8.0476e-01 -2.0091e-02]\n",
      " [ 1.9904e+01 -5.0287e-01  5.0216e-01]\n",
      " [ 2.0275e+01  1.5303e-01 -8.9413e-01]\n",
      " [ 2.1793e+01  2.5531e-02  1.0677e+00]\n",
      " [ 2.0198e+01 -1.2119e+00  1.1993e+00]\n",
      " [ 2.0502e+01 -2.4245e-02 -1.1506e-01]\n",
      " [ 2.0268e+01 -9.1552e-02  5.0725e-01]\n",
      " [ 1.7686e+01 -3.2915e-01  5.0212e-01]\n",
      " [ 2.1517e+01  4.0662e-02  8.6956e-01]\n",
      " [ 2.0539e+01 -3.7556e-01  5.4391e-01]\n",
      " [ 2.0621e+01  2.9790e+00  1.3222e+00]\n",
      " [ 2.0947e+01 -5.0536e-01 -1.0579e+00]\n",
      " [ 2.0311e+01 -1.8337e-01  1.1417e+00]\n",
      " [ 1.9089e+01  1.3290e-01 -4.8514e-01]\n",
      " [ 2.0828e+01  8.9710e-01  7.8044e-01]\n",
      " [ 1.9419e+01  5.6328e-01 -9.3306e-01]\n",
      " [ 2.0946e+01  2.0739e+00 -9.9161e-01]\n",
      " [ 2.1188e+01  5.2886e-01 -5.0211e-01]\n",
      " [ 2.0381e+01 -1.3002e+00  4.3460e-01]\n",
      " [ 1.9211e+01  4.6886e-01 -6.6899e-01]\n",
      " [ 1.9355e+01 -2.5907e+00  1.5527e+00]\n",
      " [ 2.0154e+01  7.0398e-01 -2.2550e-01]\n",
      " [ 2.0323e+01  9.2140e-01 -2.1262e-01]\n",
      " [ 2.0773e+01 -1.6060e+00 -1.0572e+00]\n",
      " [ 1.9617e+01  7.1745e-02 -6.4915e-01]\n",
      " [ 2.0439e+01 -8.4853e-01 -1.0568e-01]\n",
      " [ 2.0331e+01 -1.0075e-01  6.0167e-01]\n",
      " [ 1.9547e+01  1.1261e+00  1.2486e+00]\n",
      " [ 2.1013e+01  1.1208e+00  4.1805e-01]\n",
      " [ 2.0232e+01  7.7109e-01  4.6624e-01]\n",
      " [ 2.1095e+01 -3.0932e-01  1.7526e-01]\n",
      " [ 1.9096e+01 -1.8405e+00 -2.4753e-01]\n",
      " [ 1.9934e+01 -1.3422e+00  2.6734e+00]\n",
      " [ 2.0114e+01  8.2350e-01 -1.0873e+00]\n",
      " [ 1.9472e+01 -7.5789e-01  1.4873e+00]\n",
      " [ 2.0686e+01 -3.3860e-01 -7.8267e-01]\n",
      " [ 2.1669e+01 -2.0909e+00 -6.4847e-02]\n",
      " [ 1.8565e+01  3.5228e-01  4.3207e-01]\n",
      " [ 2.0333e+01  1.0341e+00 -1.8150e+00]\n",
      " [ 2.1385e+01  1.8781e+00 -1.2037e+00]\n",
      " [ 1.8897e+01 -1.6356e+00  7.2075e-01]\n",
      " [ 1.9564e+01 -1.2414e+00 -4.9189e-02]\n",
      " [ 2.0001e+01 -4.0294e-01  3.2695e-01]\n",
      " [ 1.9310e+01  1.5778e+00 -7.7914e-01]\n",
      " [ 2.0592e+01 -4.0689e-01 -1.7899e-02]\n",
      " [ 2.0246e+01 -1.3849e-01  9.6457e-01]\n",
      " [ 2.0270e+01  1.5841e+00 -2.0407e-01]\n",
      " [ 2.0536e+01 -2.9028e-01 -5.4647e-01]\n",
      " [ 1.9689e+01 -1.4233e+00 -1.4450e+00]\n",
      " [ 2.1324e+01 -2.8100e+00  9.6942e-01]\n",
      " [ 2.1048e+01 -1.6970e+00  6.0903e-01]\n",
      " [ 2.0510e+01 -3.5428e-01 -1.1094e+00]\n",
      " [ 1.7338e+01 -2.2654e-01 -5.8682e-01]\n",
      " [ 2.1728e+01  5.4636e-01 -2.1573e+00]\n",
      " [ 1.8774e+01 -8.4969e-01 -1.7114e-02]\n",
      " [ 2.0161e+01 -4.4436e-01 -3.5090e-01]\n",
      " [ 2.0865e+01  5.1605e-02  3.9400e-01]\n",
      " [ 1.9157e+01  1.1490e+00  2.3348e-03]\n",
      " [ 1.8280e+01  1.2269e+00 -1.7115e+00]\n",
      " [ 2.0332e+01 -1.0475e+00 -8.9995e-02]\n",
      " [ 2.0323e+01  7.8248e-01  1.7825e+00]\n",
      " [ 1.8624e+01  8.2576e-01 -8.1342e-01]\n",
      " [ 1.8863e+01  2.5015e+00  3.3263e+00]\n",
      " [ 2.0016e+01  5.9863e-01 -4.7260e-01]\n",
      " [ 1.9535e+01 -2.7597e-02  5.5683e-01]\n",
      " [ 1.9330e+01 -1.2524e+00 -4.0621e-01]\n",
      " [ 1.9955e+01 -1.1655e+00 -5.4555e-01]\n",
      " [ 1.9811e+01  2.8440e-02 -4.9384e-01]\n",
      " [ 1.8802e+01 -1.0109e+00 -1.5044e+00]\n",
      " [ 1.9681e+01  1.0766e+00  1.8024e-01]\n",
      " [ 1.9623e+01  9.3048e-01  4.8543e-01]\n",
      " [ 2.0870e+01 -3.2506e-01 -2.6518e-01]\n",
      " [ 2.0974e+01  1.1138e+00  2.7184e+00]\n",
      " [ 1.8631e+01 -6.6497e-01 -7.1631e-01]\n",
      " [ 1.9108e+01 -9.4344e-01  7.7799e-01]\n",
      " [ 2.1317e+01 -6.0492e-02 -8.6548e-01]\n",
      " [ 1.9850e+01 -6.6202e-01 -2.3223e-01]\n",
      " [ 1.9693e+01 -5.0309e-01 -2.0814e+00]\n",
      " [ 2.0878e+01 -8.3363e-01  1.2211e+00]\n",
      " [ 1.9429e+01 -1.8456e-01  3.2699e-01]\n",
      " [ 2.0398e+01  2.9056e+00  8.7053e-01]\n",
      " [ 2.1225e+01  1.4111e+00 -6.3164e-01]\n",
      " [ 1.7379e+01  4.3834e-01 -2.1244e+00]\n",
      " [ 2.0394e+01 -4.6843e-01  8.5740e-01]\n",
      " [ 2.0451e+01  2.1273e-01  1.0564e+00]\n",
      " [ 1.9774e+01 -1.3658e+00  3.4013e-01]\n",
      " [ 1.9117e+01 -1.2078e+00 -1.2159e+00]\n",
      " [ 2.2412e+01 -2.5909e-01  1.7990e+00]\n",
      " [ 2.0016e+01  4.4199e-01 -2.4467e-01]\n",
      " [ 1.9698e+01 -1.0245e-01  1.3400e+00]\n",
      " [ 2.0320e+01  6.6106e-01 -7.7531e-02]\n",
      " [ 1.9913e+01  8.0943e-01  1.2322e+00]\n",
      " [ 1.9791e+01  4.0787e-01 -2.6122e-01]\n",
      " [ 2.1794e+01  1.8390e+00 -1.5093e-01]\n",
      " [ 2.0495e+01  4.2474e-01 -1.0681e+00]\n",
      " [ 2.1610e+01 -1.6113e-01  1.2007e+00]\n",
      " [ 2.2048e+01 -1.1157e+00 -5.5333e-02]\n",
      " [ 2.1658e+01 -7.8159e-01 -9.3303e-01]\n",
      " [ 1.9408e+01 -9.5953e-01  7.0856e-01]\n",
      " [ 2.0925e+01 -5.1608e-01  1.0272e+00]\n",
      " [ 2.0801e+01 -2.2449e+00 -8.2876e-02]\n",
      " [ 2.1026e+01  5.7050e-01  1.4991e+00]\n",
      " [ 1.9119e+01  1.1336e+00 -7.1698e-01]\n",
      " [ 1.9647e+01  2.1382e+00 -1.8422e-01]]\n"
     ]
    },
    {
     "data": {
      "image/png": "[encoded data removed]",
      "text/plain": [
       "<Figure size 432x288 with 1 Axes>"
      ]
     },
     "metadata": {
      "needs_background": "light"
     },
     "output_type": "display_data"
    }
   ],
   "source": [
    "def galaxy(center, sigma, n):\n",
    "    center = np.array(center)\n",
    "    return center + sigma*np.random.randn(n, 3)\n",
    "\n",
    "G0 = galaxy([0,0,0], 1, 100)\n",
    "G1 = galaxy([20,0,0], 1, 200)\n",
    "print(G0)\n",
    "print(G1)\n",
    "\n",
    "plt.plot(G0[:,0], G0[:,1], 'o')\n",
    "plt.plot(G1[:,0], G1[:,1], 's')\n",
    "plt.axis('equal');"
   ]
  },
  {
   "cell_type": "markdown",
   "metadata": {},
   "source": [
    "We can create the dense matrix with the force from galaxy $G_1$ acting on each star in $G_0$."
   ]
  },
  {
   "cell_type": "code",
   "execution_count": 12,
   "metadata": {},
   "outputs": [],
   "source": [
    "def gravity(g0, g1):\n",
    "    m = g0.shape[0]\n",
    "    n = g1.shape[0]\n",
    "    A = np.zeros((3*m, n))\n",
    "    for i in range(m):\n",
    "        r = g1.T - np.outer(g0[i,:], np.ones(n))\n",
    "        A[3*i:3*i+3, :] = r / np.linalg.norm(r, axis=0)**3\n",
    "    return A\n",
    "\n",
    "A = gravity(G0, G1)"
   ]
  },
  {
   "cell_type": "markdown",
   "metadata": {},
   "source": [
    "This matrix can be compressed using an SVD,\n",
    "$$ U \\Sigma V = A $$\n",
    "where $U$ and $V^T$ have orthonormal columns and $\\Sigma$ is diagonal."
   ]
  },
  {
   "cell_type": "code",
   "execution_count": 13,
   "metadata": {
    "scrolled": true
   },
   "outputs": [
    {
     "data": {
      "text/plain": [
       "array([3.5560e-01, 1.8460e-02, 1.7821e-02, 2.4281e-03, 2.5213e-04,\n",
       "       2.3457e-04, 1.9308e-04, 1.8525e-04, 3.2381e-05, 5.0327e-06,\n",
       "       4.0828e-06, 3.2466e-06, 3.0653e-06, 2.8117e-06, 2.7087e-06,\n",
       "       4.0721e-07, 9.2210e-08, 7.6299e-08, 6.8647e-08, 5.6867e-08])"
      ]
     },
     "execution_count": 13,
     "metadata": {},
     "output_type": "execute_result"
    },
    {
     "data": {
      "image/png": "[encoded data removed]",
      "text/plain": [
       "<Figure size 432x288 with 1 Axes>"
      ]
     },
     "metadata": {
      "needs_background": "light"
     },
     "output_type": "display_data"
    }
   ],
   "source": [
    "U, S, V = np.linalg.svd(A, full_matrices=False)\n",
    "plt.semilogy(S)\n",
    "S[:20]"
   ]
  },
  {
   "cell_type": "markdown",
   "metadata": {},
   "source": [
    "Create a rank `k` truncated SVD\n",
    "$$ \\hat U \\hat S \\hat V \\approx A $$\n",
    "that approximates $A$ to a tolerance of less than $10^{-5}$.  This approximation can be applied in $O(mk + nk)$."
   ]
  },
  {
   "cell_type": "code",
   "execution_count": 14,
   "metadata": {
    "deletable": false,
    "nbgrader": {
     "cell_type": "code",
     "checksum": "bd75819537a88a3968e11aba1557df8c",
     "grade": false,
     "grade_id": "cell-2a8e25ad46bc3545",
     "locked": false,
     "schema_version": 3,
     "solution": true,
     "task": false
    }
   },
   "outputs": [],
   "source": [
    "def truncate_approximation(A):\n",
    "    U, S, V = np.linalg.svd(A, full_matrices=False)\n",
    "\n",
    "    # YOUR CODE HERE\n",
    "  #  raise NotImplementedError()\n",
    "\n",
    "    #rank of truncate\n",
    "    k=15     \n",
    "    Uhat=U[:,:k]\n",
    "    Vhat=V[:k,:]\n",
    "    Shat=S[:k];\n",
    "    return Uhat, Shat, Vhat\n",
    "\n"
   ]
  },
  {
   "cell_type": "code",
   "execution_count": 15,
   "metadata": {
    "deletable": false,
    "editable": false,
    "nbgrader": {
     "cell_type": "code",
     "checksum": "cbeb2c08017a2f8f2b1d39742a13c7b1",
     "grade": true,
     "grade_id": "cell-36111846eab420d2",
     "locked": true,
     "points": 1,
     "schema_version": 3,
     "solution": false,
     "task": false
    }
   },
   "outputs": [
    {
     "name": "stdout",
     "output_type": "stream",
     "text": [
      "Tests pass\n"
     ]
    }
   ],
   "source": [
    "Uhat, Shat, Vhat = truncate_approximation(A)\n",
    "assert np.linalg.norm(Uhat @ (Shat[:,None] * Vhat) - A) < 1e-5\n",
    "assert len(Shat) < 20, \"Your approximation is too expensive\"\n",
    "print('Tests pass')"
   ]
  },
  {
   "cell_type": "markdown",
   "metadata": {},
   "source": [
    "### Experiment\n",
    "\n",
    "Experiment with the distance between the galaxy centers and their size `sigma`."
   ]
  },
  {
   "cell_type": "code",
   "execution_count": 16,
   "metadata": {},
   "outputs": [
    {
     "data": {
      "image/png": "[encoded data removed]",
      "text/plain": [
       "<Figure size 432x288 with 1 Axes>"
      ]
     },
     "metadata": {
      "needs_background": "light"
     },
     "output_type": "display_data"
    }
   ],
   "source": [
    "dist = 20\n",
    "sigma = 1\n",
    "\n",
    "A = gravity(galaxy([0,0,0], sigma, 100),\n",
    "            galaxy([0,0,dist], sigma, 200))\n",
    "U, S, V = np.linalg.svd(A, full_matrices=False)\n",
    "plt.semilogy(S);"
   ]
  },
  {
   "cell_type": "markdown",
   "metadata": {
    "deletable": false,
    "editable": false,
    "nbgrader": {
     "cell_type": "markdown",
     "checksum": "3a1fe8cfc370b8f461264199ac69ad08",
     "grade": false,
     "grade_id": "cell-58d4b51b3953d865",
     "locked": true,
     "schema_version": 3,
     "solution": false,
     "task": false
    }
   },
   "source": [
    "Explain the effect of `dist` and `sigma` on the rank `k` of the approximation necessary to attain a given tolerance.  Write your answer below."
   ]
  },
  {
   "cell_type": "code",
   "execution_count": 17,
   "metadata": {
    "deletable": false,
    "nbgrader": {
     "cell_type": "code",
     "checksum": "28b7080935ebedc9d6e03861e360d9e5",
     "grade": true,
     "grade_id": "cell-7c7d66b5b5e64d21",
     "locked": false,
     "points": 1,
     "schema_version": 3,
     "solution": true,
     "task": false
    }
   },
   "outputs": [
    {
     "data": {
      "image/png": "[encoded data removed]",
      "text/plain": [
       "<Figure size 432x288 with 1 Axes>"
      ]
     },
     "metadata": {
      "needs_background": "light"
     },
     "output_type": "display_data"
    },
    {
     "data": {
      "image/png": "[encoded data removed]",
      "text/plain": [
       "<Figure size 432x288 with 1 Axes>"
      ]
     },
     "metadata": {
      "needs_background": "light"
     },
     "output_type": "display_data"
    }
   ],
   "source": [
    "# Explain the effect of dist on the rank k of the approximation necessary to attain a given tolerance\n",
    " \n",
    "dist = 10\n",
    "sigma = 1\n",
    "A = gravity(galaxy([0,0,0], sigma, 100),\n",
    "            galaxy([0,0,dist], sigma, 200))\n",
    "U, S1, V = np.linalg.svd(A, full_matrices=False)\n",
    "dist = 20\n",
    "sigma = 1\n",
    "A = gravity(galaxy([0,0,0], sigma, 100),\n",
    "            galaxy([0,0,dist], sigma, 200))\n",
    "U, S2, V = np.linalg.svd(A, full_matrices=False)\n",
    "dist = 40\n",
    "sigma = 1\n",
    "A = gravity(galaxy([0,0,0], sigma, 100),\n",
    "            galaxy([0,0,dist], sigma, 200))\n",
    "U, S3, V = np.linalg.svd(A, full_matrices=False)\n",
    "dist = 100\n",
    "sigma = 1\n",
    "A = gravity(galaxy([0,0,0], sigma, 100),\n",
    "            galaxy([0,0,dist], sigma, 200))\n",
    "U, S4, V = np.linalg.svd(A, full_matrices=False)\n",
    "\n",
    "\n",
    "line1, = plt.semilogy(S1)\n",
    "line2, = plt.semilogy(S2)\n",
    "line3, = plt.semilogy(S3)\n",
    "line4, = plt.semilogy(S4)\n",
    "\n",
    "plt.legend([line1, line2, line3, line4], [\"dist=10\", \"dist=20\", \"dist=40\", \"dist=100\"], loc=1)\n",
    "plt.show()\n",
    "#result analysis :the lager dist, the smaller k\n",
    "\n",
    "# Explain the effect of sigma on the rank k of the approximation necessary to attain a given tolerance\n",
    "\n",
    "dist = 20\n",
    "sigma = 0.5\n",
    "A = gravity(galaxy([0,0,0], sigma, 100),\n",
    "            galaxy([0,0,dist], sigma, 200))\n",
    "U, S1, V = np.linalg.svd(A, full_matrices=False)\n",
    "dist = 20\n",
    "sigma = 1\n",
    "A = gravity(galaxy([0,0,0], sigma, 100),\n",
    "            galaxy([0,0,dist], sigma, 200))\n",
    "U, S2, V = np.linalg.svd(A, full_matrices=False)\n",
    "dist = 20\n",
    "sigma = 2\n",
    "A = gravity(galaxy([0,0,0], sigma, 100),\n",
    "            galaxy([0,0,dist], sigma, 200))\n",
    "U, S3, V = np.linalg.svd(A, full_matrices=False)\n",
    "dist = 20\n",
    "sigma = 5\n",
    "A = gravity(galaxy([0,0,0], sigma, 100),\n",
    "            galaxy([0,0,dist], sigma, 200))\n",
    "U, S4, V = np.linalg.svd(A, full_matrices=False)\n",
    "\n",
    "\n",
    "line1, = plt.semilogy(S1)\n",
    "line2, = plt.semilogy(S2)\n",
    "line3, = plt.semilogy(S3)\n",
    "line4, = plt.semilogy(S4)\n",
    "\n",
    "plt.legend([line1, line2, line3, line4], [\"sigma=0.5\", \"sigma=1\", \"sigma=2\", \"sigma=5\"], loc=1)\n",
    "plt.show()\n",
    "# result analysis: the lager sigma, the lager k\n",
    "\n",
    "\n"
   ]
  }
 ],
 "metadata": {
  "kernelspec": {
   "display_name": "Python 3",
   "language": "python",
   "name": "python3"
  },
  "language_info": {
   "codemirror_mode": {
    "name": "ipython",
    "version": 3
   },
   "file_extension": ".py",
   "mimetype": "text/x-python",
   "name": "python",
   "nbconvert_exporter": "python",
   "pygments_lexer": "ipython3",
   "version": "3.7.2"
  }
 },
 "nbformat": 4,
 "nbformat_minor": 2
}
